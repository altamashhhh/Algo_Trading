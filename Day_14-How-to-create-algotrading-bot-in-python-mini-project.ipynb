{
 "cells": [
  {
   "cell_type": "markdown",
   "id": "34964817",
   "metadata": {},
   "source": [
    "# Python Algorithmic Trading Bot"
   ]
  },
  {
   "cell_type": "markdown",
   "id": "e930ac9e",
   "metadata": {},
   "source": []
  },
  {
   "cell_type": "markdown",
   "id": "fcdd6aa7",
   "metadata": {},
   "source": []
  },
  {
   "cell_type": "code",
   "execution_count": 71,
   "id": "8be0132f",
   "metadata": {},
   "outputs": [],
   "source": [
    "from datetime  import datetime\n",
    "import yfinance as yf\n",
    "import time"
   ]
  },
  {
   "cell_type": "code",
   "execution_count": 72,
   "id": "bd00ef6d",
   "metadata": {},
   "outputs": [],
   "source": [
    "class MyTradingStrategy:\n",
    "    def __init__(self,name):\n",
    "        self.__name = name\n",
    "\n",
    "    def generate_signal(self,price_data):\n",
    "        print(\"This method is intended to be over ridden\")\n",
    "        return \"Hold\"\n",
    "    \n",
    "    @property\n",
    "    def name(self):\n",
    "        return self.__name\n",
    "    "
   ]
  },
  {
   "cell_type": "code",
   "execution_count": 73,
   "id": "3782e705",
   "metadata": {},
   "outputs": [],
   "source": [
    "class MySmaTradingStrategy(MyTradingStrategy):\n",
    "    def __init__(self,swindow,lwindow):\n",
    "        self.__swindow = swindow\n",
    "        self.__lwindow = lwindow\n",
    "        super().__init__(\"My SMA Trading Strategy\")\n",
    "    \n",
    "    def generate_signal(self,price_data):\n",
    "        if len(price_data[-self.__lwindow:]) < self.__lwindow:\n",
    "            return \"Hold\"\n",
    "        short_avg = sum(price_data[-self.__swindow:])/self.__swindow \n",
    "        long_avg = sum(price_data[-self.__lwindow:])/self.__lwindow \n",
    "\n",
    "        if short_avg > long_avg:\n",
    "            return \"Buy\"\n",
    "        elif short_avg < long_avg:\n",
    "            return \"Sell\"\n",
    "        else:\n",
    "            return \"Hold\"\n",
    "        \n",
    "    @property\n",
    "    def swindow(self):\n",
    "        return self.__swindow\n",
    "    \n",
    "    @property\n",
    "    def lwindow(self):\n",
    "        return self.__lwindow\n"
   ]
  },
  {
   "cell_type": "code",
   "execution_count": 74,
   "id": "e08cb92d",
   "metadata": {},
   "outputs": [],
   "source": [
    "class MyTrade:\n",
    "    def __init__(self,strategy_name, signal, amount):\n",
    "        self.__strategy_name = strategy_name\n",
    "        self.__signal = signal\n",
    "        self.__amount = amount\n",
    "        self.__timestamp = datetime.now()\n",
    "    \n",
    "    def execute(self):\n",
    "        print(f\"Executed {self.__signal}  trade with the strategy {self.__strategy_name} with amount  {self.__amount} at the time {self.__timestamp}\")\n",
    "\n",
    "\n",
    "    @property\n",
    "    def strategy_name(self):\n",
    "        return self.__strategy_name\n",
    "    \n",
    "    @property\n",
    "    def signal(self):\n",
    "        return self.__signal\n",
    "\n",
    "    @property\n",
    "    def amount(self):\n",
    "        return self.__amount\n",
    "    \n",
    "    @property\n",
    "    def timestamp(self):\n",
    "        return self.__timestamp\n",
    "\n"
   ]
  },
  {
   "cell_type": "code",
   "execution_count": 75,
   "id": "4c30c0df",
   "metadata": {},
   "outputs": [],
   "source": [
    "\n",
    "# Mock Trading API\n",
    "\n",
    "class MockTradingAPI:\n",
    "    def __init__(self,balance):\n",
    "        self.__balance = balance\n",
    "    \n",
    "    def place_order(self,trade,price):\n",
    "        if trade.signal == \"Buy\" and self.__balance >= trade.amount * price:\n",
    "            self.__balance -= trade.amount * price\n",
    "            print(f\"Placed a buy trade at the {price}, Remaining Balance :{self.__balance}\")\n",
    "        elif trade.signal == \"Sell\":\n",
    "            self.__balance += trade.amount * price\n",
    "            print(f\"Placed a Sell trade at the {price}, Remaining Balance :{self.__balance}\")\n",
    "        else:\n",
    "            print(f\"Insufficient balance or Invalid Signal\")\n",
    "\n",
    "    @property\n",
    "    def balance(self):\n",
    "        return self.__balance\n"
   ]
  },
  {
   "cell_type": "code",
   "execution_count": 82,
   "id": "ede82f55",
   "metadata": {},
   "outputs": [],
   "source": [
    "class MyTradingSystem:\n",
    "    def __init__(self,api,strategy,symbol):\n",
    "        self.__api = api\n",
    "        self.__strategy = strategy\n",
    "        self.__symbol = symbol\n",
    "        self.__price_data =[]\n",
    "\n",
    "    def fetch_price_data(self):\n",
    "        data = yf.download(tickers = self.__symbol, period = '1d', interval = '1m')\n",
    "        if not data.empty:\n",
    "            price = data['Close'].iloc[-1]\n",
    "            self.__price_data.append(price)\n",
    "            if len(self.__price_data) > self.__strategy.lwindow:\n",
    "                self.__strategy.lwindow.pop(0)\n",
    "                print(f\"Fetched new price data: {price}\")\n",
    "            else:\n",
    "                print(\"No data fetched\")\n",
    "    \n",
    "    \n",
    "    def run(self):\n",
    "        self.fetch_price_data()\n",
    "        signal = self.__strategy.generate_signal(self.__price_data)\n",
    "        print(f\"Generated Sinal: {signal}\")\n",
    "        if signal in [\"Sell\",\"Buy\"]:\n",
    "            trade = MyTrade(self.__strategy,signal,1)\n",
    "            trade.execute()\n",
    "            self.__api.place_order(trade,self.__price_data[-1])\n",
    "\n",
    "    @property\n",
    "    def api(self):\n",
    "        return self.__api\n",
    "\n",
    "    @property\n",
    "    def strategy(self):\n",
    "        return self.__strategy\n",
    "\n",
    "    @property\n",
    "    def symbol(self):\n",
    "        return self.__symbol\n",
    "\n",
    "    @property\n",
    "    def balance(self):\n",
    "        return self.__price_data\n",
    "\n",
    "    "
   ]
  },
  {
   "cell_type": "code",
   "execution_count": 83,
   "id": "7160c9cd",
   "metadata": {},
   "outputs": [
    {
     "name": "stderr",
     "output_type": "stream",
     "text": [
      "[*********************100%%**********************]  1 of 1 completed\n"
     ]
    },
    {
     "name": "stdout",
     "output_type": "stream",
     "text": [
      "No data fetched\n",
      "Generated Sinal: Hold\n",
      "Remaining balance: 10000\n"
     ]
    },
    {
     "name": "stderr",
     "output_type": "stream",
     "text": [
      "[*********************100%%**********************]  1 of 1 completed\n"
     ]
    },
    {
     "name": "stdout",
     "output_type": "stream",
     "text": [
      "No data fetched\n",
      "Generated Sinal: Hold\n",
      "Remaining balance: 10000\n"
     ]
    },
    {
     "name": "stderr",
     "output_type": "stream",
     "text": [
      "[*********************100%%**********************]  1 of 1 completed\n"
     ]
    },
    {
     "name": "stdout",
     "output_type": "stream",
     "text": [
      "No data fetched\n",
      "Generated Sinal: Hold\n",
      "Remaining balance: 10000\n"
     ]
    }
   ],
   "source": [
    "\n",
    "symbol = 'AAPL'\n",
    "api = MockTradingAPI(balance=10000)\n",
    "strategy = MySmaTradingStrategy(3,5)\n",
    "system = MyTradingSystem(api,strategy,'AAPL')\n",
    "\n",
    "for _ in range(3):\n",
    "    system.run()\n",
    "    print(f\"Remaining balance: {api.balance}\")\n",
    "    time.sleep(2)"
   ]
  },
  {
   "cell_type": "code",
   "execution_count": null,
   "id": "d4cf94d8",
   "metadata": {},
   "outputs": [],
   "source": []
  },
  {
   "cell_type": "code",
   "execution_count": null,
   "id": "19447efd",
   "metadata": {},
   "outputs": [],
   "source": []
  },
  {
   "cell_type": "code",
   "execution_count": null,
   "id": "f5f75d1d",
   "metadata": {},
   "outputs": [],
   "source": []
  }
 ],
 "metadata": {
  "kernelspec": {
   "display_name": "base",
   "language": "python",
   "name": "python3"
  },
  "language_info": {
   "codemirror_mode": {
    "name": "ipython",
    "version": 3
   },
   "file_extension": ".py",
   "mimetype": "text/x-python",
   "name": "python",
   "nbconvert_exporter": "python",
   "pygments_lexer": "ipython3",
   "version": "3.11.8"
  }
 },
 "nbformat": 4,
 "nbformat_minor": 5
}
